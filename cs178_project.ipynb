{
 "cells": [
  {
   "cell_type": "code",
   "execution_count": null,
   "metadata": {},
   "outputs": [],
   "source": [
    "from tensorflow.keras.preprocessing.image import ImageDataGenerator\n",
    "import data_import\n",
    "\n",
    "train_images_dir = \"./images\"\n",
    "\n",
    "# LOAD THE DATA\n",
    "\n",
    "\n",
    "# SPLIT INTO TRAIN AND TEST (partially already completed)\n",
    "# Set parameters for the data generator\n",
    "datagen = ImageDataGenerator(rescale=1./255, validation_split=0.2)  # Rescale pixel values\n",
    "\n",
    "Xtr, Xte, yte, yval\n",
    "\n",
    "# train_data = datagen.flow_from_directory(\n",
    "#     test_images_dir,\n",
    "#     target_size=(350, 350),  # Image size\n",
    "#     batch_size=32,          # Batch size\n",
    "#     class_mode='categorical',  # Class mode: choose categorical, binary, or sparse\n",
    "#     subset='training'\n",
    "# )\n",
    "\n",
    "# # Validation data\n",
    "# validation_data = datagen.flow_from_directory(\n",
    "#     'path/to/your/images',\n",
    "#     target_size=(350, 350),\n",
    "#     batch_size=32,\n",
    "#     class_mode='categorical',\n",
    "#     subset='validation'\n",
    "# )\n",
    "\n",
    "print(\"Training and validation datasets are ready!\")\n",
    "\n",
    "\n",
    "\n",
    "# TRAIN MODEL\n",
    "\n",
    "# GRAPH\n"
   ]
  },
  {
   "cell_type": "code",
   "execution_count": null,
   "metadata": {},
   "outputs": [],
   "source": []
  }
 ],
 "metadata": {
  "language_info": {
   "name": "python"
  }
 },
 "nbformat": 4,
 "nbformat_minor": 2
}
