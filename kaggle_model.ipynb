{
 "cells": [
  {
   "cell_type": "code",
   "execution_count": 1,
   "metadata": {},
   "outputs": [
    {
     "name": "stdout",
     "output_type": "stream",
     "text": [
      "(10212, 2500)\n"
     ]
    }
   ],
   "source": [
    "from data_import import *\n",
    "import matplotlib.pyplot as plt\n",
    "\n",
    "# LOAD THE DATA AND SPLIT UP THINGS\n",
    "X_tr, Y_tr, X_val, Y_val, classes, filepaths = read_csv_as_numpy() \n",
    "\n",
    "print(X_tr.shape)"
   ]
  },
  {
   "cell_type": "code",
   "execution_count": 3,
   "metadata": {},
   "outputs": [
    {
     "name": "stdout",
     "output_type": "stream",
     "text": [
      "X_tr shape: (10212, 50, 50, 1), Y_tr shape: (10212, 8)\n",
      "X_val shape: (2553, 50, 50, 1), Y_val shape: (2553, 8)\n"
     ]
    }
   ],
   "source": [
    "# RELOAD AND STRUCTURE DATA FOR CNN\n",
    "from sklearn.discriminant_analysis import StandardScaler\n",
    "from tensorflow.keras.utils import to_categorical\n",
    "X_tr, Y_tr, X_val, Y_val, classes, filepaths = read_csv_as_numpy()\n",
    "\n",
    "\n",
    "# Reshape inputs for scaling (flatten temporarily)\n",
    "X_tr_flat = X_tr.reshape(X_tr.shape[0], -1)  # Shape: (num_samples, 50*50)\n",
    "X_val_flat = X_val.reshape(X_val.shape[0], -1)\n",
    "\n",
    "# Apply StandardScaler\n",
    "scaler = StandardScaler()\n",
    "X_tr_scaled = scaler.fit_transform(X_tr_flat)  # Scale training data\n",
    "X_val_scaled = scaler.transform(X_val_flat)   # Scale validation data using the same scaler\n",
    "\n",
    "# Reshape back to (50, 50, 1) for CNN\n",
    "X_tr = X_tr_scaled.reshape(-1, 50, 50, 1)\n",
    "X_val = X_val_scaled.reshape(-1, 50, 50, 1)\n",
    "\n",
    "# One-hot encode the labels\n",
    "num_classes = len(np.unique(Y_tr))  # Calculate number of classes\n",
    "Y_tr = to_categorical(Y_tr, num_classes)\n",
    "Y_val = to_categorical(Y_val, num_classes)\n",
    "\n",
    "# Print shapes for verification\n",
    "print(f\"X_tr shape: {X_tr.shape}, Y_tr shape: {Y_tr.shape}\")\n",
    "print(f\"X_val shape: {X_val.shape}, Y_val shape: {Y_val.shape}\")"
   ]
  },
  {
   "cell_type": "code",
   "execution_count": 4,
   "metadata": {},
   "outputs": [
    {
     "name": "stdout",
     "output_type": "stream",
     "text": [
      "Epoch 1/10\n"
     ]
    },
    {
     "name": "stderr",
     "output_type": "stream",
     "text": [
      "/opt/miniconda3/envs/cs178/lib/python3.10/site-packages/keras/src/layers/convolutional/base_conv.py:107: UserWarning: Do not pass an `input_shape`/`input_dim` argument to a layer. When using Sequential models, prefer using an `Input(shape)` object as the first layer in the model instead.\n",
      "  super().__init__(activity_regularizer=activity_regularizer, **kwargs)\n"
     ]
    },
    {
     "name": "stdout",
     "output_type": "stream",
     "text": [
      "\u001b[1m320/320\u001b[0m \u001b[32m━━━━━━━━━━━━━━━━━━━━\u001b[0m\u001b[37m\u001b[0m \u001b[1m8s\u001b[0m 24ms/step - accuracy: 0.4795 - loss: 1.0725 - val_accuracy: 0.4747 - val_loss: 1.0119\n",
      "Epoch 2/10\n",
      "\u001b[1m320/320\u001b[0m \u001b[32m━━━━━━━━━━━━━━━━━━━━\u001b[0m\u001b[37m\u001b[0m \u001b[1m7s\u001b[0m 23ms/step - accuracy: 0.5037 - loss: 0.9840 - val_accuracy: 0.5131 - val_loss: 0.9647\n",
      "Epoch 3/10\n",
      "\u001b[1m320/320\u001b[0m \u001b[32m━━━━━━━━━━━━━━━━━━━━\u001b[0m\u001b[37m\u001b[0m \u001b[1m7s\u001b[0m 23ms/step - accuracy: 0.5211 - loss: 0.9538 - val_accuracy: 0.5131 - val_loss: 0.9566\n",
      "Epoch 4/10\n",
      "\u001b[1m320/320\u001b[0m \u001b[32m━━━━━━━━━━━━━━━━━━━━\u001b[0m\u001b[37m\u001b[0m \u001b[1m7s\u001b[0m 23ms/step - accuracy: 0.5283 - loss: 0.9478 - val_accuracy: 0.5135 - val_loss: 0.9552\n",
      "Epoch 5/10\n",
      "\u001b[1m320/320\u001b[0m \u001b[32m━━━━━━━━━━━━━━━━━━━━\u001b[0m\u001b[37m\u001b[0m \u001b[1m7s\u001b[0m 23ms/step - accuracy: 0.5239 - loss: 0.9501 - val_accuracy: 0.5135 - val_loss: 0.9558\n",
      "Epoch 6/10\n",
      "\u001b[1m320/320\u001b[0m \u001b[32m━━━━━━━━━━━━━━━━━━━━\u001b[0m\u001b[37m\u001b[0m \u001b[1m8s\u001b[0m 24ms/step - accuracy: 0.5391 - loss: 0.9695 - val_accuracy: 0.5163 - val_loss: 0.9540\n",
      "Epoch 7/10\n",
      "\u001b[1m320/320\u001b[0m \u001b[32m━━━━━━━━━━━━━━━━━━━━\u001b[0m\u001b[37m\u001b[0m \u001b[1m8s\u001b[0m 25ms/step - accuracy: 0.5371 - loss: 0.9405 - val_accuracy: 0.5139 - val_loss: 0.9528\n",
      "Epoch 8/10\n",
      "\u001b[1m320/320\u001b[0m \u001b[32m━━━━━━━━━━━━━━━━━━━━\u001b[0m\u001b[37m\u001b[0m \u001b[1m8s\u001b[0m 24ms/step - accuracy: 0.5399 - loss: 0.9306 - val_accuracy: 0.5116 - val_loss: 0.9677\n",
      "Epoch 9/10\n",
      "\u001b[1m320/320\u001b[0m \u001b[32m━━━━━━━━━━━━━━━━━━━━\u001b[0m\u001b[37m\u001b[0m \u001b[1m8s\u001b[0m 24ms/step - accuracy: 0.5539 - loss: 0.9150 - val_accuracy: 0.5174 - val_loss: 0.9551\n",
      "Epoch 10/10\n",
      "\u001b[1m320/320\u001b[0m \u001b[32m━━━━━━━━━━━━━━━━━━━━\u001b[0m\u001b[37m\u001b[0m \u001b[1m8s\u001b[0m 24ms/step - accuracy: 0.5542 - loss: 0.9082 - val_accuracy: 0.5202 - val_loss: 0.9621\n",
      "\u001b[1m80/80\u001b[0m \u001b[32m━━━━━━━━━━━━━━━━━━━━\u001b[0m\u001b[37m\u001b[0m \u001b[1m1s\u001b[0m 7ms/step - accuracy: 0.5183 - loss: 0.9695\n",
      "Test Accuracy: 52.02%\n",
      "It took 77.36364984512329 seconds.\n"
     ]
    }
   ],
   "source": [
    "# CNN\n",
    "import time\n",
    "import tensorflow as tf\n",
    "from tensorflow.keras.models import Sequential\n",
    "from tensorflow.keras.layers import Conv2D, MaxPooling2D, Flatten, Dense, Dropout\n",
    "from tensorflow.keras.preprocessing.image import ImageDataGenerator\n",
    "from tensorflow.keras.regularizers import l2\n",
    "\n",
    "# Example data setup: replace with your own dataset\n",
    "# Assuming `X_train`, `X_test`, `y_train`, `y_test` are ready\n",
    "\n",
    "# Reshape data\n",
    "# X_tr = np.reshape(X_tr, (-1, 50, 50, 1))\n",
    "# X_val = np.reshape(X_val, (-1, 50, 50, 1))\n",
    "\n",
    "\n",
    "# Normalize the image pixel values\n",
    "# X_tr = X_tr.astype('float32') / 255.0  # Scale to [0, 1]\n",
    "# X_val = X_val.astype('float32') / 255.0\n",
    "\n",
    "# If images are grayscale, add a channel dimension\n",
    "\n",
    "\n",
    "# If labels are integers (e.g., 0, 1, ..., num_classes-1), convert to one-hot\n",
    "\n",
    "start = time.time()\n",
    "# Build the CNN model\n",
    "model = Sequential([\n",
    "    Conv2D(32, (3, 3), activation='relu', input_shape=(50, 50, 1)), \n",
    "    MaxPooling2D(pool_size=(2, 2)),  \n",
    "    Dropout(0.25),\n",
    "    Conv2D(32, (6, 6), activation='relu'),\n",
    "    MaxPooling2D(pool_size=(2, 2)),\n",
    "    Dropout(0.25),\n",
    "    Flatten(),\n",
    "    Dense(128, activation='relu'),\n",
    "    Dropout(0.5),\n",
    "    Dense(num_classes, activation='softmax')\n",
    "])\n",
    "\n",
    "# L2 Regularized model\n",
    "# model = Sequential([\n",
    "#     Conv2D(32, (3, 3), activation='relu', input_shape=(50, 50, 1), kernel_regularizer=l2(0.01)),\n",
    "#     MaxPooling2D(pool_size=(2, 2)),\n",
    "#     Flatten(),\n",
    "#     Dense(128, activation='relu', kernel_regularizer=l2(0.01)),\n",
    "#     Dense(8, activation='softmax')\n",
    "# ])\n",
    "\n",
    "# Compile the model\n",
    "model.compile(optimizer='adam',\n",
    "              loss='categorical_crossentropy',\n",
    "              metrics=['accuracy'])\n",
    "\n",
    "# Train the model\n",
    "history = model.fit(X_tr, Y_tr, epochs=10, batch_size=32, validation_data=(X_val, Y_val))\n",
    "\n",
    "# Evaluate the model\n",
    "loss, accuracy = model.evaluate(X_val, Y_val)\n",
    "print(f\"Test Accuracy: {accuracy * 100:.2f}%\")\n",
    "\n",
    "end = time.time()\n",
    "print(f\"It took {end-start} seconds.\")"
   ]
  },
  {
   "cell_type": "code",
   "execution_count": 13,
   "metadata": {},
   "outputs": [],
   "source": [
    "import tensorflow as tf\n",
    "from tensorflow.keras.models import Sequential\n",
    "from tensorflow.keras.layers import Conv2D, MaxPool2D, Flatten, Dense, Dropout, BatchNormalization\n",
    "from tensorflow.keras.optimizers import Adam\n",
    "from tensorflow.keras import regularizers\n",
    "\n",
    "def cnn_model():\n",
    "    model= tf.keras.models.Sequential()\n",
    "    model.add(Conv2D(32, kernel_size=(3, 3), padding='same', activation='relu', input_shape=(50, 50, 1)))\n",
    "    model.add(Conv2D(64,(3,3), padding='same', activation='relu' ))\n",
    "    model.add(BatchNormalization())\n",
    "    model.add(MaxPool2D(pool_size=(2, 2)))\n",
    "    model.add(Dropout(0.25))\n",
    "\n",
    "    model.add(Conv2D(128,(5,5), padding='same', activation='relu'))\n",
    "    model.add(BatchNormalization())\n",
    "    model.add(MaxPool2D(pool_size=(2, 2)))\n",
    "    model.add(Dropout(0.25))\n",
    "\n",
    "    model.add(Conv2D(512,(3,3), padding='same', activation='relu', kernel_regularizer=regularizers.l2(0.01)))\n",
    "    model.add(BatchNormalization())\n",
    "    model.add(MaxPool2D(pool_size=(2, 2)))\n",
    "    model.add(Dropout(0.25))\n",
    "\n",
    "    model.add(Conv2D(512,(3,3), padding='same', activation='relu', kernel_regularizer=regularizers.l2(0.01)))\n",
    "    model.add(BatchNormalization())\n",
    "    model.add(MaxPool2D(pool_size=(2, 2)))\n",
    "    model.add(Dropout(0.25))\n",
    "\n",
    "    model.add(Conv2D(512,(3,3), padding='same', activation='relu', kernel_regularizer=regularizers.l2(0.01)))\n",
    "    model.add(BatchNormalization())\n",
    "    model.add(MaxPool2D(pool_size=(2, 2)))\n",
    "    model.add(Dropout(0.25))\n",
    "\n",
    "    model.add(Flatten()) \n",
    "    model.add(Dense(256,activation = 'relu'))\n",
    "    model.add(BatchNormalization())\n",
    "    model.add(Dropout(0.25))\n",
    "        \n",
    "    model.add(Dense(512,activation = 'relu'))\n",
    "    model.add(BatchNormalization())\n",
    "    model.add(Dropout(0.25))\n",
    "\n",
    "    model.add(Dense(8, activation='softmax'))\n",
    "    return model"
   ]
  },
  {
   "cell_type": "code",
   "execution_count": 15,
   "metadata": {},
   "outputs": [
    {
     "name": "stdout",
     "output_type": "stream",
     "text": [
      "Epoch 1/10\n",
      "\u001b[1m160/160\u001b[0m \u001b[32m━━━━━━━━━━━━━━━━━━━━\u001b[0m\u001b[37m\u001b[0m \u001b[1m0s\u001b[0m 620ms/step - accuracy: 0.1321 - loss: 15.0669\n",
      "Epoch 1: val_accuracy improved from -inf to 0.09636, saving model to best_model.keras\n",
      "\u001b[1m160/160\u001b[0m \u001b[32m━━━━━━━━━━━━━━━━━━━━\u001b[0m\u001b[37m\u001b[0m \u001b[1m107s\u001b[0m 655ms/step - accuracy: 0.1322 - loss: 15.0654 - val_accuracy: 0.0964 - val_loss: 13.8199\n",
      "Epoch 2/10\n",
      "\u001b[1m160/160\u001b[0m \u001b[32m━━━━━━━━━━━━━━━━━━━━\u001b[0m\u001b[37m\u001b[0m \u001b[1m0s\u001b[0m 590ms/step - accuracy: 0.2128 - loss: 14.1057\n",
      "Epoch 2: val_accuracy improved from 0.09636 to 0.49236, saving model to best_model.keras\n",
      "\u001b[1m160/160\u001b[0m \u001b[32m━━━━━━━━━━━━━━━━━━━━\u001b[0m\u001b[37m\u001b[0m \u001b[1m100s\u001b[0m 624ms/step - accuracy: 0.2129 - loss: 14.1043 - val_accuracy: 0.4924 - val_loss: 13.3418\n",
      "Epoch 3/10\n",
      "\u001b[1m160/160\u001b[0m \u001b[32m━━━━━━━━━━━━━━━━━━━━\u001b[0m\u001b[37m\u001b[0m \u001b[1m0s\u001b[0m 591ms/step - accuracy: 0.2800 - loss: 13.2407\n",
      "Epoch 3: val_accuracy did not improve from 0.49236\n",
      "\u001b[1m160/160\u001b[0m \u001b[32m━━━━━━━━━━━━━━━━━━━━\u001b[0m\u001b[37m\u001b[0m \u001b[1m100s\u001b[0m 624ms/step - accuracy: 0.2802 - loss: 13.2394 - val_accuracy: 0.4360 - val_loss: 12.4064\n",
      "Epoch 4/10\n",
      "\u001b[1m160/160\u001b[0m \u001b[32m━━━━━━━━━━━━━━━━━━━━\u001b[0m\u001b[37m\u001b[0m \u001b[1m0s\u001b[0m 608ms/step - accuracy: 0.3633 - loss: 12.3800\n",
      "Epoch 4: val_accuracy did not improve from 0.49236\n",
      "\u001b[1m160/160\u001b[0m \u001b[32m━━━━━━━━━━━━━━━━━━━━\u001b[0m\u001b[37m\u001b[0m \u001b[1m103s\u001b[0m 641ms/step - accuracy: 0.3634 - loss: 12.3787 - val_accuracy: 0.4724 - val_loss: 11.5818\n",
      "Epoch 5/10\n",
      "\u001b[1m160/160\u001b[0m \u001b[32m━━━━━━━━━━━━━━━━━━━━\u001b[0m\u001b[37m\u001b[0m \u001b[1m0s\u001b[0m 597ms/step - accuracy: 0.4082 - loss: 11.5119\n",
      "Epoch 5: val_accuracy did not improve from 0.49236\n",
      "\u001b[1m160/160\u001b[0m \u001b[32m━━━━━━━━━━━━━━━━━━━━\u001b[0m\u001b[37m\u001b[0m \u001b[1m101s\u001b[0m 630ms/step - accuracy: 0.4083 - loss: 11.5106 - val_accuracy: 0.4736 - val_loss: 10.6917\n",
      "Epoch 6/10\n",
      "\u001b[1m160/160\u001b[0m \u001b[32m━━━━━━━━━━━━━━━━━━━━\u001b[0m\u001b[37m\u001b[0m \u001b[1m0s\u001b[0m 595ms/step - accuracy: 0.4540 - loss: 10.6611\n",
      "Epoch 6: val_accuracy did not improve from 0.49236\n",
      "\u001b[1m160/160\u001b[0m \u001b[32m━━━━━━━━━━━━━━━━━━━━\u001b[0m\u001b[37m\u001b[0m \u001b[1m101s\u001b[0m 629ms/step - accuracy: 0.4540 - loss: 10.6598 - val_accuracy: 0.4920 - val_loss: 9.8781\n",
      "Epoch 7/10\n",
      "\u001b[1m160/160\u001b[0m \u001b[32m━━━━━━━━━━━━━━━━━━━━\u001b[0m\u001b[37m\u001b[0m \u001b[1m0s\u001b[0m 603ms/step - accuracy: 0.4835 - loss: 9.8281\n",
      "Epoch 7: val_accuracy improved from 0.49236 to 0.49589, saving model to best_model.keras\n",
      "\u001b[1m160/160\u001b[0m \u001b[32m━━━━━━━━━━━━━━━━━━━━\u001b[0m\u001b[37m\u001b[0m \u001b[1m102s\u001b[0m 637ms/step - accuracy: 0.4834 - loss: 9.8269 - val_accuracy: 0.4959 - val_loss: 9.0482\n",
      "Epoch 8/10\n",
      "\u001b[1m160/160\u001b[0m \u001b[32m━━━━━━━━━━━━━━━━━━━━\u001b[0m\u001b[37m\u001b[0m \u001b[1m0s\u001b[0m 612ms/step - accuracy: 0.4741 - loss: 9.0606\n",
      "Epoch 8: val_accuracy improved from 0.49589 to 0.50176, saving model to best_model.keras\n",
      "\u001b[1m160/160\u001b[0m \u001b[32m━━━━━━━━━━━━━━━━━━━━\u001b[0m\u001b[37m\u001b[0m \u001b[1m103s\u001b[0m 646ms/step - accuracy: 0.4741 - loss: 9.0593 - val_accuracy: 0.5018 - val_loss: 8.3224\n",
      "Epoch 9/10\n",
      "\u001b[1m160/160\u001b[0m \u001b[32m━━━━━━━━━━━━━━━━━━━━\u001b[0m\u001b[37m\u001b[0m \u001b[1m0s\u001b[0m 595ms/step - accuracy: 0.4941 - loss: 8.2732\n",
      "Epoch 9: val_accuracy improved from 0.50176 to 0.50803, saving model to best_model.keras\n",
      "\u001b[1m160/160\u001b[0m \u001b[32m━━━━━━━━━━━━━━━━━━━━\u001b[0m\u001b[37m\u001b[0m \u001b[1m101s\u001b[0m 630ms/step - accuracy: 0.4941 - loss: 8.2721 - val_accuracy: 0.5080 - val_loss: 7.6095\n",
      "Epoch 10/10\n",
      "\u001b[1m160/160\u001b[0m \u001b[32m━━━━━━━━━━━━━━━━━━━━\u001b[0m\u001b[37m\u001b[0m \u001b[1m0s\u001b[0m 599ms/step - accuracy: 0.4981 - loss: 7.5489\n",
      "Epoch 10: val_accuracy did not improve from 0.50803\n",
      "\u001b[1m160/160\u001b[0m \u001b[32m━━━━━━━━━━━━━━━━━━━━\u001b[0m\u001b[37m\u001b[0m \u001b[1m101s\u001b[0m 631ms/step - accuracy: 0.4981 - loss: 7.5479 - val_accuracy: 0.4975 - val_loss: 6.9390\n",
      "Restoring model weights from the end of the best epoch: 9.\n"
     ]
    },
    {
     "data": {
      "text/plain": [
       "<matplotlib.legend.Legend at 0x322bcca30>"
      ]
     },
     "execution_count": 15,
     "metadata": {},
     "output_type": "execute_result"
    },
    {
     "data": {
      "image/png": "[encoded data removed]",
      "text/plain": [
       "<Figure size 640x480 with 1 Axes>"
      ]
     },
     "metadata": {},
     "output_type": "display_data"
    }
   ],
   "source": [
    "from tensorflow.keras.optimizers import Adam\n",
    "from keras.callbacks import ModelCheckpoint,EarlyStopping\n",
    "\n",
    "model = cnn_model()\n",
    "\n",
    "model.compile(\n",
    "    optimizer = Adam(learning_rate=0.0001), \n",
    "    loss='categorical_crossentropy', \n",
    "    metrics=['accuracy'])\n",
    "\n",
    "checkpointer = [EarlyStopping(monitor = 'val_accuracy', verbose = 1, \n",
    "                              restore_best_weights=True,mode=\"max\",patience = 5),\n",
    "                ModelCheckpoint('best_model.keras',monitor=\"val_accuracy\",verbose=1,\n",
    "                                save_best_only=True,mode=\"max\")]\n",
    "\n",
    "datagen = ImageDataGenerator(  width_shift_range = 0.1,\n",
    "                               height_shift_range = 0.1,\n",
    "                               horizontal_flip = True,\n",
    "                               zoom_range = 0.2)\n",
    "valgen = ImageDataGenerator(   width_shift_range = 0.1,\n",
    "                               height_shift_range = 0.1,\n",
    "                               horizontal_flip = True,\n",
    "                               zoom_range = 0.2) \n",
    "\n",
    "train_generator = datagen.flow(X_tr, Y_tr, batch_size=64)\n",
    "val_generator = datagen.flow(X_val, Y_val, batch_size=64)\n",
    "\n",
    "history = model.fit(train_generator,\n",
    "                    epochs=10,\n",
    "                    batch_size=64,   \n",
    "                    verbose=1,\n",
    "                    callbacks=[checkpointer],\n",
    "                    validation_data=val_generator)\n",
    "\n",
    "plt.plot(history.history[\"loss\"],'r', label=\"Training Loss\")\n",
    "plt.plot(history.history[\"val_loss\"],'b', label=\"Validation Loss\")\n",
    "plt.legend()"
   ]
  }
 ],
 "metadata": {
  "kernelspec": {
   "display_name": "cs178",
   "language": "python",
   "name": "python3"
  },
  "language_info": {
   "codemirror_mode": {
    "name": "ipython",
    "version": 3
   },
   "file_extension": ".py",
   "mimetype": "text/x-python",
   "name": "python",
   "nbconvert_exporter": "python",
   "pygments_lexer": "ipython3",
   "version": "3.10.13"
  }
 },
 "nbformat": 4,
 "nbformat_minor": 2
}
